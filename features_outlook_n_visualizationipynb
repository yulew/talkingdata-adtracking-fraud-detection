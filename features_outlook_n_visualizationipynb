{
 "cells": [
  {
   "cell_type": "markdown",
   "metadata": {},
   "source": [
    "# **Dataset Outlook**"
   ]
  },
  {
   "cell_type": "markdown",
   "metadata": {},
   "source": [
    "Conclusions: <br>\n",
    "1. Imbalanced Data: about 0.26% vs 99.74%<br>\n",
    "2. Training data includes three days data: 2017-11-06 Monday 14:32 to 2017-11-09 Thursday 16:00 <br>\n",
    "3. To check data.describe(), at least one day data should be loaded, around 55 000 000 rows. <br>\n",
    "4. Create new features: <br>\n",
    "(a) Frequency (clicks), downloads frequency and mean_download_ratio per group of \"IP, device and OS\" <br>\n",
    "(b) Convert timestamp to hour (categorical data): eg.  2017-11-06 11:30:11 $\\rightarrow$ 11. "
   ]
  },
  {
   "cell_type": "markdown",
   "metadata": {},
   "source": [
    "# Before Dataset Overlook\n",
    "\n",
    "## Features:\n",
    "\n",
    "IP: Which region or country a user is located is relevant to whether he or she fraudulently clicks on the AD. <br>\n",
    "(a). Fraud user can clicks on a same AD for many times but using same IP.<br>\n",
    "(b). However, a family or people in the same company can share a same IP, which means a same ip can contain regular user and fraud user. <br>\n",
    "BY group by Device, OS, channel etc can further differentiate that.\n",
    "<br>\n",
    "APP: *(Can be used group by IP)* app id for marketing <br>\n",
    "Device: device type id of user mobile phone (e.g., iphone 6 plus, iphone 7, huawei mate 7, etc.) <br>\n",
    "OS: *(Can be used group by IP)* os version id of user mobile phone <br>\n",
    "Channel:  channel id of mobile ad publisher <br>\n",
    "click_time: <br> \n",
    "(a). A regular user and a fraud user varys in terms of when they click on AD.<br>\n",
    "(b). Durations of click_time of a same IP can make a prediction.\n",
    "attributed_time:<br>\n",
    "**is_attributed**: Target Value "
   ]
  },
  {
   "cell_type": "code",
   "execution_count": 1,
   "metadata": {
    "_cell_guid": "b1076dfc-b9ad-4769-8c92-a6c4dae69d19",
    "_uuid": "8f2839f25d086af736a60e9eeb907d3b93b6e0e5"
   },
   "outputs": [],
   "source": [
    "import numpy as np # linear algebra\n",
    "import pandas as pd # data processing, CSV file I/O (e.g. pd.read_csv)\n",
    "import seaborn as sns\n",
    "import matplotlib.pyplot as plt\n",
    "import os\n",
    "import gc\n",
    "# import dask\n",
    "# import dask.dataframe as dd        \n",
    "import warnings\n",
    "warnings.filterwarnings('ignore')\n",
    "train_dir = \"./train.csv\"\n"
   ]
  },
  {
   "cell_type": "markdown",
   "metadata": {},
   "source": [
    "## After first glimpse of the dataset, we find:"
   ]
  },
  {
   "cell_type": "markdown",
   "metadata": {},
   "source": [
    "1. Training Dataset is over from 2017-11-06 (Monday) 14:32 to 2017-11-09 (Thursday) 16:00\n",
    "2. Training Dataset is too large to directly load into 16GB RAM. <br>\n",
    "(a). IP, APP, Device, OS and Channel' datatype can be reduced from INT64 to INT16/32.\n",
    "(b). Click_time and Attributed_time datatype should be changed to timestamp\n",
    "3. Top three most relavant features: IP, APP, Channel. NOTICE: click_time has not examined. (Device: -0.001962 -- -0.000018; OS: -0.004403 -- -0.002146. Can be deleted or not)"
   ]
  },
  {
   "cell_type": "code",
   "execution_count": 6,
   "metadata": {},
   "outputs": [],
   "source": [
    "# Head  10 000 000 rows\n",
    "train = pd.read_csv(train_dir, nrows=(1000000))\n"
   ]
  },
  {
   "cell_type": "markdown",
   "metadata": {},
   "source": [
    "## First Glimpse of Data"
   ]
  },
  {
   "cell_type": "code",
   "execution_count": 7,
   "metadata": {},
   "outputs": [
    {
     "name": "stdout",
     "output_type": "stream",
     "text": [
      "Train data Head and Tail:\n",
      "       ip  app  device  os  channel           click_time attributed_time  \\\n",
      "0   83230    3       1  13      379  2017-11-06 14:32:21             NaN   \n",
      "1   17357    3       1  19      379  2017-11-06 14:33:34             NaN   \n",
      "2   35810    3       1  13      379  2017-11-06 14:34:12             NaN   \n",
      "3   45745   14       1  13      478  2017-11-06 14:34:52             NaN   \n",
      "4  161007    3       1  13      379  2017-11-06 14:35:08             NaN   \n",
      "\n",
      "   is_attributed  \n",
      "0              0  \n",
      "1              0  \n",
      "2              0  \n",
      "3              0  \n",
      "4              0  \n"
     ]
    }
   ],
   "source": [
    "print(\"Train data Head and Tail:\")\n",
    "print(train.head())\n"
   ]
  },
  {
   "cell_type": "code",
   "execution_count": 8,
   "metadata": {},
   "outputs": [
    {
     "name": "stdout",
     "output_type": "stream",
     "text": [
      "                   ip             app          device              os  \\\n",
      "count  1000000.000000  1000000.000000  1000000.000000  1000000.000000   \n",
      "mean     86993.581653       12.316655       26.141368       23.067662   \n",
      "std      55529.023541       16.216890      273.537010       55.323313   \n",
      "min          9.000000        0.000000        0.000000        0.000000   \n",
      "25%      42297.000000        3.000000        1.000000       13.000000   \n",
      "50%      81725.000000       12.000000        1.000000       18.000000   \n",
      "75%     120440.000000       15.000000        1.000000       19.000000   \n",
      "max     212773.000000      645.000000     3379.000000      715.000000   \n",
      "\n",
      "              channel   is_attributed  \n",
      "count  1000000.000000  1000000.000000  \n",
      "mean       241.523634        0.001693  \n",
      "std        122.713405        0.041111  \n",
      "min          0.000000        0.000000  \n",
      "25%        134.000000        0.000000  \n",
      "50%        232.000000        0.000000  \n",
      "75%        280.000000        0.000000  \n",
      "max        498.000000        1.000000  \n",
      "<class 'pandas.core.frame.DataFrame'>\n",
      "RangeIndex: 1000000 entries, 0 to 999999\n",
      "Data columns (total 8 columns):\n",
      " #   Column           Non-Null Count    Dtype \n",
      "---  ------           --------------    ----- \n",
      " 0   ip               1000000 non-null  int64 \n",
      " 1   app              1000000 non-null  int64 \n",
      " 2   device           1000000 non-null  int64 \n",
      " 3   os               1000000 non-null  int64 \n",
      " 4   channel          1000000 non-null  int64 \n",
      " 5   click_time       1000000 non-null  object\n",
      " 6   attributed_time  1693 non-null     object\n",
      " 7   is_attributed    1000000 non-null  int64 \n",
      "dtypes: int64(6), object(2)\n",
      "memory usage: 61.0+ MB\n",
      "None\n"
     ]
    }
   ],
   "source": [
    "print(train.describe())\n",
    "print(train.info())\n"
   ]
  },
  {
   "cell_type": "code",
   "execution_count": 6,
   "metadata": {},
   "outputs": [
    {
     "data": {
      "text/html": [
       "<div>\n",
       "<style scoped>\n",
       "    .dataframe tbody tr th:only-of-type {\n",
       "        vertical-align: middle;\n",
       "    }\n",
       "\n",
       "    .dataframe tbody tr th {\n",
       "        vertical-align: top;\n",
       "    }\n",
       "\n",
       "    .dataframe thead th {\n",
       "        text-align: right;\n",
       "    }\n",
       "</style>\n",
       "<table border=\"1\" class=\"dataframe\">\n",
       "  <thead>\n",
       "    <tr style=\"text-align: right;\">\n",
       "      <th></th>\n",
       "      <th>ip</th>\n",
       "      <th>app</th>\n",
       "      <th>device</th>\n",
       "      <th>os</th>\n",
       "      <th>channel</th>\n",
       "      <th>is_attributed</th>\n",
       "    </tr>\n",
       "  </thead>\n",
       "  <tbody>\n",
       "    <tr>\n",
       "      <th>ip</th>\n",
       "      <td>1.000000</td>\n",
       "      <td>0.016097</td>\n",
       "      <td>-0.003968</td>\n",
       "      <td>-0.004742</td>\n",
       "      <td>0.029664</td>\n",
       "      <td>0.021128</td>\n",
       "    </tr>\n",
       "    <tr>\n",
       "      <th>app</th>\n",
       "      <td>0.016097</td>\n",
       "      <td>1.000000</td>\n",
       "      <td>0.273510</td>\n",
       "      <td>0.196557</td>\n",
       "      <td>-0.015453</td>\n",
       "      <td>0.046686</td>\n",
       "    </tr>\n",
       "    <tr>\n",
       "      <th>device</th>\n",
       "      <td>-0.003968</td>\n",
       "      <td>0.273510</td>\n",
       "      <td>1.000000</td>\n",
       "      <td>0.721928</td>\n",
       "      <td>-0.033914</td>\n",
       "      <td>-0.001962</td>\n",
       "    </tr>\n",
       "    <tr>\n",
       "      <th>os</th>\n",
       "      <td>-0.004742</td>\n",
       "      <td>0.196557</td>\n",
       "      <td>0.721928</td>\n",
       "      <td>1.000000</td>\n",
       "      <td>0.043651</td>\n",
       "      <td>-0.004403</td>\n",
       "    </tr>\n",
       "    <tr>\n",
       "      <th>channel</th>\n",
       "      <td>0.029664</td>\n",
       "      <td>-0.015453</td>\n",
       "      <td>-0.033914</td>\n",
       "      <td>0.043651</td>\n",
       "      <td>1.000000</td>\n",
       "      <td>-0.035484</td>\n",
       "    </tr>\n",
       "    <tr>\n",
       "      <th>is_attributed</th>\n",
       "      <td>0.021128</td>\n",
       "      <td>0.046686</td>\n",
       "      <td>-0.001962</td>\n",
       "      <td>-0.004403</td>\n",
       "      <td>-0.035484</td>\n",
       "      <td>1.000000</td>\n",
       "    </tr>\n",
       "  </tbody>\n",
       "</table>\n",
       "</div>"
      ],
      "text/plain": [
       "                     ip       app    device        os   channel  is_attributed\n",
       "ip             1.000000  0.016097 -0.003968 -0.004742  0.029664       0.021128\n",
       "app            0.016097  1.000000  0.273510  0.196557 -0.015453       0.046686\n",
       "device        -0.003968  0.273510  1.000000  0.721928 -0.033914      -0.001962\n",
       "os            -0.004742  0.196557  0.721928  1.000000  0.043651      -0.004403\n",
       "channel        0.029664 -0.015453 -0.033914  0.043651  1.000000      -0.035484\n",
       "is_attributed  0.021128  0.046686 -0.001962 -0.004403 -0.035484       1.000000"
      ]
     },
     "execution_count": 6,
     "metadata": {},
     "output_type": "execute_result"
    }
   ],
   "source": [
    "train.corr()\n"
   ]
  },
  {
   "cell_type": "markdown",
   "metadata": {},
   "source": [
    "# LOAD ALL DATA"
   ]
  },
  {
   "cell_type": "markdown",
   "metadata": {},
   "source": [
    "1. Reduce datatype to uint (length in total: 184 903 890 rows) (6 * 10^7 about one day)\n",
    "2. Using dask (this is for big data)"
   ]
  },
  {
   "cell_type": "code",
   "execution_count": null,
   "metadata": {},
   "outputs": [],
   "source": [
    "dtypes = {\n",
    "        'ip'            : 'uint32', #max 3.65*10^5 better to use uint32  (as uint16: upto 65535)\n",
    "        'app'           : 'uint16',\n",
    "        'device'        : 'uint16',\n",
    "        'os'            : 'uint16',\n",
    "        'channel'       : 'uint16',\n",
    "        'is_attributed' : 'uint8',\n",
    "        }\n",
    "train = pd.read_csv(train_dir,  dtype=dtypes)\n",
    "# solely load in regular numpy way 9.4G\n",
    "# I have deleted large df object but do not know why did not collect memory\n"
   ]
  },
  {
   "cell_type": "code",
   "execution_count": 5,
   "metadata": {},
   "outputs": [
    {
     "data": {
      "text/html": [
       "<div>\n",
       "<style scoped>\n",
       "    .dataframe tbody tr th:only-of-type {\n",
       "        vertical-align: middle;\n",
       "    }\n",
       "\n",
       "    .dataframe tbody tr th {\n",
       "        vertical-align: top;\n",
       "    }\n",
       "\n",
       "    .dataframe thead th {\n",
       "        text-align: right;\n",
       "    }\n",
       "</style>\n",
       "<table border=\"1\" class=\"dataframe\">\n",
       "  <thead>\n",
       "    <tr style=\"text-align: right;\">\n",
       "      <th></th>\n",
       "      <th>ip</th>\n",
       "      <th>app</th>\n",
       "      <th>device</th>\n",
       "      <th>os</th>\n",
       "      <th>channel</th>\n",
       "      <th>is_attributed</th>\n",
       "    </tr>\n",
       "  </thead>\n",
       "  <tbody>\n",
       "    <tr>\n",
       "      <th>count</th>\n",
       "      <td>5.500000e+07</td>\n",
       "      <td>5.500000e+07</td>\n",
       "      <td>5.500000e+07</td>\n",
       "      <td>5.500000e+07</td>\n",
       "      <td>5.500000e+07</td>\n",
       "      <td>5.500000e+07</td>\n",
       "    </tr>\n",
       "    <tr>\n",
       "      <th>mean</th>\n",
       "      <td>8.620490e+04</td>\n",
       "      <td>1.248198e+01</td>\n",
       "      <td>3.670648e+01</td>\n",
       "      <td>2.530424e+01</td>\n",
       "      <td>2.670721e+02</td>\n",
       "      <td>2.628036e-03</td>\n",
       "    </tr>\n",
       "    <tr>\n",
       "      <th>std</th>\n",
       "      <td>5.587764e+04</td>\n",
       "      <td>1.621851e+01</td>\n",
       "      <td>3.257265e+02</td>\n",
       "      <td>6.483965e+01</td>\n",
       "      <td>1.292837e+02</td>\n",
       "      <td>5.119697e-02</td>\n",
       "    </tr>\n",
       "    <tr>\n",
       "      <th>min</th>\n",
       "      <td>5.000000e+00</td>\n",
       "      <td>0.000000e+00</td>\n",
       "      <td>0.000000e+00</td>\n",
       "      <td>0.000000e+00</td>\n",
       "      <td>0.000000e+00</td>\n",
       "      <td>0.000000e+00</td>\n",
       "    </tr>\n",
       "    <tr>\n",
       "      <th>25%</th>\n",
       "      <td>4.092400e+04</td>\n",
       "      <td>3.000000e+00</td>\n",
       "      <td>1.000000e+00</td>\n",
       "      <td>1.300000e+01</td>\n",
       "      <td>1.400000e+02</td>\n",
       "      <td>0.000000e+00</td>\n",
       "    </tr>\n",
       "    <tr>\n",
       "      <th>50%</th>\n",
       "      <td>8.055800e+04</td>\n",
       "      <td>1.200000e+01</td>\n",
       "      <td>1.000000e+00</td>\n",
       "      <td>1.800000e+01</td>\n",
       "      <td>2.450000e+02</td>\n",
       "      <td>0.000000e+00</td>\n",
       "    </tr>\n",
       "    <tr>\n",
       "      <th>75%</th>\n",
       "      <td>1.205750e+05</td>\n",
       "      <td>1.500000e+01</td>\n",
       "      <td>1.000000e+00</td>\n",
       "      <td>1.900000e+01</td>\n",
       "      <td>3.790000e+02</td>\n",
       "      <td>0.000000e+00</td>\n",
       "    </tr>\n",
       "    <tr>\n",
       "      <th>max</th>\n",
       "      <td>2.127740e+05</td>\n",
       "      <td>6.760000e+02</td>\n",
       "      <td>3.545000e+03</td>\n",
       "      <td>7.480000e+02</td>\n",
       "      <td>4.980000e+02</td>\n",
       "      <td>1.000000e+00</td>\n",
       "    </tr>\n",
       "  </tbody>\n",
       "</table>\n",
       "</div>"
      ],
      "text/plain": [
       "                 ip           app        device            os       channel  \\\n",
       "count  5.500000e+07  5.500000e+07  5.500000e+07  5.500000e+07  5.500000e+07   \n",
       "mean   8.620490e+04  1.248198e+01  3.670648e+01  2.530424e+01  2.670721e+02   \n",
       "std    5.587764e+04  1.621851e+01  3.257265e+02  6.483965e+01  1.292837e+02   \n",
       "min    5.000000e+00  0.000000e+00  0.000000e+00  0.000000e+00  0.000000e+00   \n",
       "25%    4.092400e+04  3.000000e+00  1.000000e+00  1.300000e+01  1.400000e+02   \n",
       "50%    8.055800e+04  1.200000e+01  1.000000e+00  1.800000e+01  2.450000e+02   \n",
       "75%    1.205750e+05  1.500000e+01  1.000000e+00  1.900000e+01  3.790000e+02   \n",
       "max    2.127740e+05  6.760000e+02  3.545000e+03  7.480000e+02  4.980000e+02   \n",
       "\n",
       "       is_attributed  \n",
       "count   5.500000e+07  \n",
       "mean    2.628036e-03  \n",
       "std     5.119697e-02  \n",
       "min     0.000000e+00  \n",
       "25%     0.000000e+00  \n",
       "50%     0.000000e+00  \n",
       "75%     0.000000e+00  \n",
       "max     1.000000e+00  "
      ]
     },
     "execution_count": 5,
     "metadata": {},
     "output_type": "execute_result"
    }
   ],
   "source": [
    "train.describe() \n"
   ]
  },
  {
   "cell_type": "code",
   "execution_count": 6,
   "metadata": {},
   "outputs": [
    {
     "data": {
      "text/html": [
       "<div>\n",
       "<style scoped>\n",
       "    .dataframe tbody tr th:only-of-type {\n",
       "        vertical-align: middle;\n",
       "    }\n",
       "\n",
       "    .dataframe tbody tr th {\n",
       "        vertical-align: top;\n",
       "    }\n",
       "\n",
       "    .dataframe thead th {\n",
       "        text-align: right;\n",
       "    }\n",
       "</style>\n",
       "<table border=\"1\" class=\"dataframe\">\n",
       "  <thead>\n",
       "    <tr style=\"text-align: right;\">\n",
       "      <th></th>\n",
       "      <th>ip</th>\n",
       "      <th>app</th>\n",
       "      <th>device</th>\n",
       "      <th>os</th>\n",
       "      <th>channel</th>\n",
       "      <th>is_attributed</th>\n",
       "    </tr>\n",
       "  </thead>\n",
       "  <tbody>\n",
       "    <tr>\n",
       "      <th>ip</th>\n",
       "      <td>1.000000</td>\n",
       "      <td>0.005963</td>\n",
       "      <td>-0.005148</td>\n",
       "      <td>-0.005061</td>\n",
       "      <td>0.006509</td>\n",
       "      <td>0.033893</td>\n",
       "    </tr>\n",
       "    <tr>\n",
       "      <th>app</th>\n",
       "      <td>0.005963</td>\n",
       "      <td>1.000000</td>\n",
       "      <td>0.205047</td>\n",
       "      <td>0.205154</td>\n",
       "      <td>-0.033175</td>\n",
       "      <td>0.055970</td>\n",
       "    </tr>\n",
       "    <tr>\n",
       "      <th>device</th>\n",
       "      <td>-0.005148</td>\n",
       "      <td>0.205047</td>\n",
       "      <td>1.000000</td>\n",
       "      <td>0.969272</td>\n",
       "      <td>-0.086981</td>\n",
       "      <td>-0.001281</td>\n",
       "    </tr>\n",
       "    <tr>\n",
       "      <th>os</th>\n",
       "      <td>-0.005061</td>\n",
       "      <td>0.205154</td>\n",
       "      <td>0.969272</td>\n",
       "      <td>1.000000</td>\n",
       "      <td>-0.084894</td>\n",
       "      <td>-0.001358</td>\n",
       "    </tr>\n",
       "    <tr>\n",
       "      <th>channel</th>\n",
       "      <td>0.006509</td>\n",
       "      <td>-0.033175</td>\n",
       "      <td>-0.086981</td>\n",
       "      <td>-0.084894</td>\n",
       "      <td>1.000000</td>\n",
       "      <td>-0.026450</td>\n",
       "    </tr>\n",
       "    <tr>\n",
       "      <th>is_attributed</th>\n",
       "      <td>0.033893</td>\n",
       "      <td>0.055970</td>\n",
       "      <td>-0.001281</td>\n",
       "      <td>-0.001358</td>\n",
       "      <td>-0.026450</td>\n",
       "      <td>1.000000</td>\n",
       "    </tr>\n",
       "  </tbody>\n",
       "</table>\n",
       "</div>"
      ],
      "text/plain": [
       "                     ip       app    device        os   channel  is_attributed\n",
       "ip             1.000000  0.005963 -0.005148 -0.005061  0.006509       0.033893\n",
       "app            0.005963  1.000000  0.205047  0.205154 -0.033175       0.055970\n",
       "device        -0.005148  0.205047  1.000000  0.969272 -0.086981      -0.001281\n",
       "os            -0.005061  0.205154  0.969272  1.000000 -0.084894      -0.001358\n",
       "channel        0.006509 -0.033175 -0.086981 -0.084894  1.000000      -0.026450\n",
       "is_attributed  0.033893  0.055970 -0.001281 -0.001358 -0.026450       1.000000"
      ]
     },
     "execution_count": 6,
     "metadata": {},
     "output_type": "execute_result"
    }
   ],
   "source": [
    "train.corr()\n"
   ]
  },
  {
   "cell_type": "code",
   "execution_count": null,
   "metadata": {},
   "outputs": [],
   "source": [
    "dtypes = {'ip':'uint32',\n",
    "          'app': 'uint16',\n",
    "          'device': 'uint16',\n",
    "          'os': 'uint16',\n",
    "          'channel': 'uint16',\n",
    "          'is_attributed': 'uint8'}\n",
    "\n",
    "train = dd.read_csv(train_dir, dtype=dtypes, parse_dates=['click_time', 'attributed_time'])\n",
    "train.head()\n"
   ]
  },
  {
   "cell_type": "code",
   "execution_count": 7,
   "metadata": {},
   "outputs": [
    {
     "name": "stdout",
     "output_type": "stream",
     "text": [
      "<class 'pandas.core.frame.DataFrame'>\n",
      "RangeIndex: 55000000 entries, 0 to 54999999\n",
      "Data columns (total 8 columns):\n",
      " #   Column           Dtype         \n",
      "---  ------           -----         \n",
      " 0   ip               uint32        \n",
      " 1   app              uint16        \n",
      " 2   device           uint16        \n",
      " 3   os               uint16        \n",
      " 4   channel          uint16        \n",
      " 5   click_time       datetime64[ns]\n",
      " 6   attributed_time  datetime64[ns]\n",
      " 7   is_attributed    uint8         \n",
      "dtypes: datetime64[ns](2), uint16(4), uint32(1), uint8(1)\n",
      "memory usage: 1.5 GB\n"
     ]
    }
   ],
   "source": [
    "train.info()\n"
   ]
  },
  {
   "cell_type": "code",
   "execution_count": 15,
   "metadata": {
    "scrolled": true
   },
   "outputs": [
    {
     "data": {
      "text/plain": [
       "5348      343734\n",
       "5314      323478\n",
       "73516     207679\n",
       "73487     204923\n",
       "53454     134532\n",
       "114276    121197\n",
       "26995     109034\n",
       "95766     103622\n",
       "86767      83785\n",
       "105560     79732\n",
       "100275     78016\n",
       "201182     77623\n",
       "105475     77187\n",
       "43793      76943\n",
       "137052     76934\n",
       "209663     74004\n",
       "147957     69195\n",
       "17149      64332\n",
       "111025     62162\n",
       "93587      50126\n",
       "Name: ip, dtype: int64"
      ]
     },
     "execution_count": 15,
     "metadata": {},
     "output_type": "execute_result"
    }
   ],
   "source": [
    "ip_counts = train.ip.value_counts().compute()\n",
    "ip_counts[:20]\n"
   ]
  },
  {
   "cell_type": "code",
   "execution_count": 16,
   "metadata": {
    "scrolled": true
   },
   "outputs": [
    {
     "data": {
      "text/html": [
       "<div>\n",
       "<style scoped>\n",
       "    .dataframe tbody tr th:only-of-type {\n",
       "        vertical-align: middle;\n",
       "    }\n",
       "\n",
       "    .dataframe tbody tr th {\n",
       "        vertical-align: top;\n",
       "    }\n",
       "\n",
       "    .dataframe thead th {\n",
       "        text-align: right;\n",
       "    }\n",
       "</style>\n",
       "<table border=\"1\" class=\"dataframe\">\n",
       "  <thead>\n",
       "    <tr style=\"text-align: right;\">\n",
       "      <th></th>\n",
       "      <th>is_attributed</th>\n",
       "    </tr>\n",
       "    <tr>\n",
       "      <th>channel</th>\n",
       "      <th></th>\n",
       "    </tr>\n",
       "  </thead>\n",
       "  <tbody>\n",
       "    <tr>\n",
       "      <th>0</th>\n",
       "      <td>0.074310</td>\n",
       "    </tr>\n",
       "    <tr>\n",
       "      <th>3</th>\n",
       "      <td>0.000431</td>\n",
       "    </tr>\n",
       "    <tr>\n",
       "      <th>4</th>\n",
       "      <td>0.081481</td>\n",
       "    </tr>\n",
       "    <tr>\n",
       "      <th>5</th>\n",
       "      <td>0.489284</td>\n",
       "    </tr>\n",
       "    <tr>\n",
       "      <th>13</th>\n",
       "      <td>0.000644</td>\n",
       "    </tr>\n",
       "    <tr>\n",
       "      <th>14</th>\n",
       "      <td>0.166667</td>\n",
       "    </tr>\n",
       "    <tr>\n",
       "      <th>15</th>\n",
       "      <td>0.000000</td>\n",
       "    </tr>\n",
       "    <tr>\n",
       "      <th>17</th>\n",
       "      <td>0.000169</td>\n",
       "    </tr>\n",
       "    <tr>\n",
       "      <th>18</th>\n",
       "      <td>0.000256</td>\n",
       "    </tr>\n",
       "    <tr>\n",
       "      <th>19</th>\n",
       "      <td>0.000247</td>\n",
       "    </tr>\n",
       "    <tr>\n",
       "      <th>21</th>\n",
       "      <td>0.142509</td>\n",
       "    </tr>\n",
       "    <tr>\n",
       "      <th>22</th>\n",
       "      <td>0.001764</td>\n",
       "    </tr>\n",
       "    <tr>\n",
       "      <th>24</th>\n",
       "      <td>0.000000</td>\n",
       "    </tr>\n",
       "    <tr>\n",
       "      <th>29</th>\n",
       "      <td>0.000000</td>\n",
       "    </tr>\n",
       "    <tr>\n",
       "      <th>30</th>\n",
       "      <td>0.013333</td>\n",
       "    </tr>\n",
       "    <tr>\n",
       "      <th>101</th>\n",
       "      <td>0.025468</td>\n",
       "    </tr>\n",
       "    <tr>\n",
       "      <th>105</th>\n",
       "      <td>0.000432</td>\n",
       "    </tr>\n",
       "    <tr>\n",
       "      <th>107</th>\n",
       "      <td>0.000461</td>\n",
       "    </tr>\n",
       "    <tr>\n",
       "      <th>108</th>\n",
       "      <td>0.019357</td>\n",
       "    </tr>\n",
       "    <tr>\n",
       "      <th>110</th>\n",
       "      <td>0.003782</td>\n",
       "    </tr>\n",
       "  </tbody>\n",
       "</table>\n",
       "</div>"
      ],
      "text/plain": [
       "         is_attributed\n",
       "channel               \n",
       "0             0.074310\n",
       "3             0.000431\n",
       "4             0.081481\n",
       "5             0.489284\n",
       "13            0.000644\n",
       "14            0.166667\n",
       "15            0.000000\n",
       "17            0.000169\n",
       "18            0.000256\n",
       "19            0.000247\n",
       "21            0.142509\n",
       "22            0.001764\n",
       "24            0.000000\n",
       "29            0.000000\n",
       "30            0.013333\n",
       "101           0.025468\n",
       "105           0.000432\n",
       "107           0.000461\n",
       "108           0.019357\n",
       "110           0.003782"
      ]
     },
     "execution_count": 16,
     "metadata": {},
     "output_type": "execute_result"
    }
   ],
   "source": [
    "channel_means = train[['channel','is_attributed']].groupby('channel').mean().compute()\n",
    "channel_means[:20]\n"
   ]
  },
  {
   "cell_type": "markdown",
   "metadata": {},
   "source": [
    "## SEABORN \n",
    "### IP frequency"
   ]
  },
  {
   "cell_type": "code",
   "execution_count": 17,
   "metadata": {},
   "outputs": [
    {
     "data": {
      "text/plain": [
       "<AxesSubplot:xlabel='ip', ylabel='Count'>"
      ]
     },
     "execution_count": 17,
     "metadata": {},
     "output_type": "execute_result"
    },
    {
     "data": {
      "image/png": "[encoded data removed]",
      "text/plain": [
       "<Figure size 432x288 with 1 Axes>"
      ]
     },
     "metadata": {},
     "output_type": "display_data"
    }
   ],
   "source": [
    "sns.histplot(train.ip)\n"
   ]
  },
  {
   "cell_type": "markdown",
   "metadata": {},
   "source": [
    "# Features Engineering\n"
   ]
  },
  {
   "cell_type": "markdown",
   "metadata": {},
   "source": [
    "1. Time Series Engineering <br>\n",
    "2. Other features: is_attributed group by IP：<br>\n",
    "a. (i). clicks per IP; (ii). click_ratio per IP <br>"
   ]
  },
  {
   "cell_type": "code",
   "execution_count": null,
   "metadata": {},
   "outputs": [],
   "source": [
    "tra.values[:,list(range(1,3)) + [0]]\n"
   ]
  },
  {
   "cell_type": "code",
   "execution_count": null,
   "metadata": {},
   "outputs": [],
   "source": [
    "f = tra.groupby([\"ip\",'device','os'])['is_attributed'].count().reset_index().rename(index=str, columns={'is_attributed': 'ip-device-os-clicks'})"
   ]
  },
  {
   "cell_type": "code",
   "execution_count": null,
   "metadata": {},
   "outputs": [],
   "source": [
    "tra.merge(f, on=[\"ip\",'device','os'], how='left')\n"
   ]
  },
  {
   "cell_type": "code",
   "execution_count": null,
   "metadata": {},
   "outputs": [],
   "source": [
    "tra.head()\n"
   ]
  },
  {
   "cell_type": "markdown",
   "metadata": {},
   "source": [
    "### Downloads ratio (the ratio of downloads and all clicks) per ip-device-os"
   ]
  },
  {
   "cell_type": "code",
   "execution_count": null,
   "metadata": {},
   "outputs": [],
   "source": [
    "tra[['ip','device','os','is_attributed']].groupby([\"ip\",'device','os']).mean() # 25/1/17: 0.142857"
   ]
  },
  {
   "cell_type": "markdown",
   "metadata": {},
   "source": [
    "### Frequency per ip-device-os"
   ]
  },
  {
   "cell_type": "code",
   "execution_count": null,
   "metadata": {},
   "outputs": [],
   "source": [
    "tra[['ip','device','os','is_attributed']].groupby([\"ip\",'device','os']).count()\n"
   ]
  },
  {
   "cell_type": "markdown",
   "metadata": {},
   "source": [
    "### Downloads frequency per ip-device-os"
   ]
  },
  {
   "cell_type": "code",
   "execution_count": null,
   "metadata": {},
   "outputs": [],
   "source": [
    "tra[['ip','device','os','is_attributed']].groupby([\"ip\",'device','os']).sum()\n"
   ]
  },
  {
   "cell_type": "code",
   "execution_count": null,
   "metadata": {},
   "outputs": [],
   "source": [
    "ip_attributed_counts = tra[['ip','is_attributed']].groupby([\"ip\"]).sum()\n"
   ]
  },
  {
   "cell_type": "code",
   "execution_count": null,
   "metadata": {},
   "outputs": [],
   "source": [
    "tra[['ip','is_attributed']][tra.is_attributed == 1].groupby([\"ip\"]).count()\n"
   ]
  },
  {
   "cell_type": "markdown",
   "metadata": {},
   "source": [
    "# Visulization Data (once again)\n",
    "about 5.5 * 10^7 a whole day (2017-11-06 14:32:21 -- 2017-11-07 14:24:01)"
   ]
  },
  {
   "cell_type": "code",
   "execution_count": 2,
   "metadata": {},
   "outputs": [],
   "source": [
    "dtypes = {'ip':'uint32',\n",
    "          'app': 'uint16',\n",
    "          'device': 'uint16',\n",
    "          'os': 'uint16',\n",
    "          'channel': 'uint16',\n",
    "          'is_attributed': 'uint8'}\n",
    "\n",
    "dataVisual = pd.read_csv(train_dir, dtype=dtypes, parse_dates=['click_time', 'attributed_time'], nrows=(55000000))"
   ]
  },
  {
   "cell_type": "markdown",
   "metadata": {},
   "source": [
    "# Is_attributed Ratio Over Day: 0.26% vs 99.74% "
   ]
  },
  {
   "cell_type": "code",
   "execution_count": 10,
   "metadata": {},
   "outputs": [
    {
     "data": {
      "image/png": "[encoded data removed]",
      "text/plain": [
       "<Figure size 432x432 with 1 Axes>"
      ]
     },
     "metadata": {},
     "output_type": "display_data"
    }
   ],
   "source": [
    "plt.figure(figsize = (6,6))\n",
    "#sns.set(font_scale=1.2)\n",
    "mean = (dataVisual.is_attributed.values == 1).mean()\n",
    "ax = sns.barplot(['App Downloaded (1)', 'Not Downloaded (0)'], [mean, 1 - mean])\n",
    "ax.set(ylabel = 'Proportion', title='App Downloaded vs Not Downloaded')\n",
    "for p, uniq in zip(ax.patches, [mean, 1 - mean]):\n",
    "    height = p.get_height()\n",
    "    ax.text(p.get_x() + p.get_width()/2.,\n",
    "            height + 0.01,\n",
    "            '{}%'.format(round(uniq * 100, 2)),\n",
    "            ha = \"center\")\n",
    "    "
   ]
  },
  {
   "cell_type": "code",
   "execution_count": 10,
   "metadata": {},
   "outputs": [
    {
     "data": {
      "text/plain": [
       "0           0\n",
       "1           0\n",
       "2           0\n",
       "3           0\n",
       "4           0\n",
       "           ..\n",
       "54999995    0\n",
       "54999996    0\n",
       "54999997    0\n",
       "54999998    0\n",
       "54999999    0\n",
       "Name: is_attributed, Length: 55000000, dtype: uint8"
      ]
     },
     "execution_count": 10,
     "metadata": {},
     "output_type": "execute_result"
    }
   ],
   "source": [
    "dataVisual.is_attributed\n"
   ]
  },
  {
   "cell_type": "code",
   "execution_count": 11,
   "metadata": {},
   "outputs": [],
   "source": [
    "dataVisual['hour'] = dataVisual['click_time'].dt.hour\n"
   ]
  },
  {
   "cell_type": "code",
   "execution_count": 12,
   "metadata": {},
   "outputs": [],
   "source": [
    "mean_attributed = dataVisual[['hour','is_attributed']].groupby(['hour']).mean()\n"
   ]
  },
  {
   "cell_type": "code",
   "execution_count": 13,
   "metadata": {},
   "outputs": [],
   "source": [
    "counts_clicks = dataVisual[['hour','is_attributed']].groupby(['hour']).count()\n"
   ]
  },
  {
   "cell_type": "code",
   "execution_count": 14,
   "metadata": {},
   "outputs": [],
   "source": [
    "counts_attributed = dataVisual[['hour','is_attributed']].groupby(['hour']).sum()\n"
   ]
  },
  {
   "cell_type": "markdown",
   "metadata": {},
   "source": [
    "# Mean true downloads Peak Hours\n",
    "16 o'clock true downloads rate lowest"
   ]
  },
  {
   "cell_type": "code",
   "execution_count": 19,
   "metadata": {},
   "outputs": [
    {
     "data": {
      "image/png": "[encoded data removed]",
      "text/plain": [
       "<Figure size 432x288 with 1 Axes>"
      ]
     },
     "metadata": {},
     "output_type": "display_data"
    }
   ],
   "source": [
    "plt.plot(mean_attributed,'.-')\n",
    "plt.xlabel(\"hour\")\n",
    "plt.ylabel(\"mean true downloads rate\")\n",
    "plt.xticks(ticks = range(24))\n",
    "plt.show()\n"
   ]
  },
  {
   "cell_type": "markdown",
   "metadata": {},
   "source": [
    "# Clicks vs hour\n",
    "On 15:00, lowest clicks: only 435 clicks. \n",
    "Yet later 16:00 is a peak, but lowest true download."
   ]
  },
  {
   "cell_type": "code",
   "execution_count": 20,
   "metadata": {},
   "outputs": [
    {
     "data": {
      "image/png": "[encoded data removed]",
      "text/plain": [
       "<Figure size 432x288 with 1 Axes>"
      ]
     },
     "metadata": {},
     "output_type": "display_data"
    }
   ],
   "source": [
    "plt.plot(counts_clicks,'.-')\n",
    "plt.xlabel(\"Hour\")\n",
    "plt.ylabel(\"Click counts\")\n",
    "plt.xticks(ticks = range(24))\n",
    "plt.show()\n"
   ]
  },
  {
   "cell_type": "markdown",
   "metadata": {},
   "source": [
    "# Downloads vs hour\n",
    "At 15:00 -- 15:59, only one download but it is also the minimum for clicks\n",
    "The mean download is not the lowest, but it may be just noise.\n",
    "\n",
    "At 16:00 -- 16.59, clearly a lot of clicks are contributed by the fraud clicks"
   ]
  },
  {
   "cell_type": "code",
   "execution_count": 21,
   "metadata": {},
   "outputs": [
    {
     "data": {
      "image/png": "[encoded data removed]",
      "text/plain": [
       "<Figure size 432x288 with 1 Axes>"
      ]
     },
     "metadata": {},
     "output_type": "display_data"
    }
   ],
   "source": [
    "plt.plot(counts_attributed,'.-')\n",
    "plt.xlabel(\"Hour\")\n",
    "plt.ylabel(\"Downloads\")\n",
    "plt.xticks(ticks = range(24))\n",
    "plt.show()\n"
   ]
  }
 ],
 "metadata": {
  "kernelspec": {
   "display_name": "Python 3",
   "language": "python",
   "name": "python3"
  },
  "language_info": {
   "codemirror_mode": {
    "name": "ipython",
    "version": 3
   },
   "file_extension": ".py",
   "mimetype": "text/x-python",
   "name": "python",
   "nbconvert_exporter": "python",
   "pygments_lexer": "ipython3",
   "version": "3.6.10"
  }
 },
 "nbformat": 4,
 "nbformat_minor": 4
}
